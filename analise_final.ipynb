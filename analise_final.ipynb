{
 "cells": [
  {
   "cell_type": "markdown",
   "id": "b2a2c686",
   "metadata": {},
   "source": [
    "### Dissertação de Mestrado: Frederico Gomes\n",
    "\n",
    "• **Autor:** Maria Luiza Campos\n",
    "\n",
    "• **Data:** Julho 2025\n",
    "\n",
    "**Metodologia:** Teste Exato de Fisher."
   ]
  },
  {
   "cell_type": "code",
   "execution_count": 7,
   "id": "888e47ed",
   "metadata": {},
   "outputs": [
    {
     "name": "stdout",
     "output_type": "stream",
     "text": [
      "Dados importados com sucesso!\n"
     ]
    }
   ],
   "source": [
    "## Importando bibliotecas\n",
    "\n",
    "import pandas as pd\n",
    "import numpy as np\n",
    "from scipy import stats\n",
    "import matplotlib.pyplot as plt\n",
    "import seaborn as sns\n",
    "\n",
    "## Importando os dados\n",
    "\n",
    "dados = pd.read_csv('dados_limpos.csv')\n",
    "print(\"Dados importados com sucesso!\")"
   ]
  },
  {
   "cell_type": "markdown",
   "id": "2984146a",
   "metadata": {},
   "source": [
    "# Entendendo o modelo de análise\n",
    "\n",
    "As variáveis de idade, da forma como estão agrupadas, não comportam um teste exato de Fisher, que necessita de duas categorias não ordinais. \n",
    "Mesmo que agrupassemos as idades, ainda não seria ideal porque idade possui ordem cronológica (é uma variável quantitativa ordinal). Assim, nossas categorias possuem\n",
    "uma ordem de compreensão, sendo 0 indivíduos mais novos e 3 indivíduos mais velhos (em ambos réu e vítima).\n",
    "\n",
    "As demais variáveis são qualitativas nominais, ou seja, as categorias não possuem uma ordem pré-estabelecida e são todas binárias (0,1). Assim, são variáveis ideais para o teste exato de Fisher. Vamos começar nossa análise com essas demais variáveis.\n",
    "\n",
    "### Teste exato de Fisher\n",
    "\n",
    "Esse teste vai nos retornar a existência ou não de uma associação entre as variáveis. Ou seja, não retorna uma correlação - que possui direção e força. O p-valor vai apenas nos informar se existe ou não uma associação válida entre as duas variáveis qualitativas nominais binárias. \n",
    "\n",
    "H0: não existe associação entre as variáveis. \n",
    "\n",
    "Se p-valor for pequeno, então rejeitamos a hipótese nula e podemos afirmar que há associação entre as variáveis. \n",
    "\n",
    "O odds ratio do teste nos fornece informação sobre força e direção da relação. \n",
    "\n",
    "### Notas relevantes sobre a amostra \n",
    "\n",
    "O número de observações se altera a depender da variável independente analisada. Veja abaixo um modelo simples e genérico de equação que representa, visualmente, uma das associações que estamos investigando:\n",
    "\n",
    "Resultado da Condenação [f(x) = y] = B0 + B1 * Existência de filhos (x)\n",
    "\n",
    "Aqui, estamos apenas supondo que o resultado da condenação é uma função da existência de filhos, isto é, a existência de filhos (x, variável independente) afeta o resultado da condenação (y, variável dependente). \n",
    "\n",
    "As variáveis independentes na amostra tem um número variável de observações, ou seja, o tamanho da amostra muda a depender de x. Nesse caso, eu vou trabalhar com sub-amostras pra cada x numa tentativa de exaurir completamente a informação disponível e tirar vantagem de possíveis amostras maiores. \n",
    "\n",
    "\n"
   ]
  },
  {
   "cell_type": "code",
   "execution_count": 8,
   "id": "459901b5",
   "metadata": {},
   "outputs": [
    {
     "name": "stdout",
     "output_type": "stream",
     "text": [
      "     ID_processo  resultado_julgamento  categoria_vinculo\n",
      "0         148088                     1                1.0\n",
      "1         203354                     1                0.0\n",
      "2         211280                     1                1.0\n",
      "3         264516                     1                1.0\n",
      "4         849912                     1                1.0\n",
      "..           ...                   ...                ...\n",
      "126       197716                     0                1.0\n",
      "127       152449                     0                1.0\n",
      "128       772844                     0                1.0\n",
      "130       210396                     0                NaN\n",
      "131       191972                     0                NaN\n",
      "\n",
      "[131 rows x 3 columns]\n",
      "Total de observações originais: 132\n",
      "Total de observações final: 131\n"
     ]
    }
   ],
   "source": [
    "### Analisando a categoria de vínculo\n",
    "\n",
    "## Filtrando apenas para as variáveis de interesse\n",
    "\n",
    "variaveis_interesse = ['ID_processo','resultado_julgamento', 'categoria_vinculo']\n",
    "dados_filtrados = dados[variaveis_interesse].copy()\n",
    "dados_filtrados = dados_filtrados[dados_filtrados['ID_processo'] != 202146] ## removendo um dos processos\n",
    "print(dados_filtrados)\n",
    "print(f\"Total de observações originais: {len(dados)}\")\n",
    "print(f\"Total de observações final: {len(dados_filtrados)}\")"
   ]
  },
  {
   "cell_type": "code",
   "execution_count": null,
   "id": "6a495873",
   "metadata": {},
   "outputs": [
    {
     "name": "stdout",
     "output_type": "stream",
     "text": [
      "ID_processo:\n",
      "  Missing values: 0 (0.0%)\n",
      "  Valores únicos: [148088 203354 211280 264516 849912 804741 254352 202422 224010 200221\n",
      " 184262 132092 835236 173028 191800 193481 694900 184789 174559 146576\n",
      " 143912 280782 212700 215458 885416 913497 208333 212840 871265 249385\n",
      " 157443 239068 259005 176898 176979 527774 171531 176559 169452 149635\n",
      " 175618 140372 143672 155742 158776 231453 134780 195164 831541 800685\n",
      " 795482 210952 208602 722014 681080 676155 199917 197973 197199 208631\n",
      " 237957 147619 183064 201216 195723 169551 208489 226153 185259 630372\n",
      " 188501 189990 142704 163831 153688 379763 477088 382196 387667 160739\n",
      " 185437 163595 176254 171010 136005 165091 155347 158511 162216 154015\n",
      " 728575 110419 283470 966382 170792 216534 961744 159217 270098 211850\n",
      " 214764 231698 248059 279235 166443 172188 118368 221858 230572 201531\n",
      " 265254 240573 238961 201966 202969 206484 204528 202900 155503 897015\n",
      " 217780 211854 210161 197716 152449 772844 210396 191972]\n",
      "resultado_julgamento:\n",
      "  Missing values: 0 (0.0%)\n",
      "  Valores únicos: [1 0]\n",
      "categoria_vinculo:\n",
      "  Missing values: 24 (18.3%)\n",
      "  Valores únicos: [ 1.  0. nan]\n"
     ]
    }
   ],
   "source": [
    "## Verificando missing values\n",
    "\n",
    "for var in variaveis_interesse:\n",
    "    missing_count = dados_filtrados[var].isna().sum()\n",
    "    missing_percent = (missing_count/len(dados_filtrados)) * 100\n",
    "    print(f\"{var}:\")\n",
    "    print(f\"  Missing values: {missing_count} ({missing_percent:.1f}%)\")\n",
    "    print(f\"  Valores únicos: {dados_filtrados[var].unique()}\")\n"
   ]
  },
  {
   "cell_type": "code",
   "execution_count": 10,
   "id": "82ac843d",
   "metadata": {},
   "outputs": [
    {
     "name": "stdout",
     "output_type": "stream",
     "text": [
      "ID_processo: 107 observações\n",
      "resultado_julgamento: 107 observações\n",
      "categoria_vinculo: 107 observações\n"
     ]
    }
   ],
   "source": [
    "## Vamos remover esses valores faltantes da tabela filtrada\n",
    "\n",
    "dados_limpos = dados_filtrados.dropna()\n",
    "\n",
    "for var in variaveis_interesse:\n",
    "    observacoes_variavel = len(dados_limpos[var])\n",
    "    print(f\"{var}: {observacoes_variavel} observações\")\n",
    "\n",
    "## Isso significa que temos apenas 107 observações com informação COMPLETA. "
   ]
  },
  {
   "cell_type": "code",
   "execution_count": 12,
   "id": "6a0d64f5",
   "metadata": {},
   "outputs": [],
   "source": [
    "## Vamos rodar o Teste Exato de Fisher para cada uma das variáveis de interesse\n",
    "\n",
    "## Definindo uma função para o teste\n",
    "\n",
    "def teste_fisher(var1, var2, dados):\n",
    "    \"\"\"\n",
    "    Executa o teste exato de Fisher entre duas variáveis de interesse\n",
    "\n",
    "    \"\"\"\n",
    "    # Criar tabela de contigência\n",
    "    tabela = pd.crosstab(dados[var1], dados[var2])\n",
    "\n",
    "    print(f\"\\n=== Teste de Fisher: {var1} vs {var2} ===\")\n",
    "    print(\"Tabela de contigência\")\n",
    "    print(tabela)\n",
    "\n",
    "    # verificar se a tabela é válida para Fisher\n",
    "    if tabela.shape != (2, 2):\n",
    "        print(f\"⚠️  Tabela {tabela.shape} - Fisher pode não ser apropriado\")\n",
    "        return None, None, None\n",
    "\n",
    "    # Executar teste de fisher\n",
    "    try:\n",
    "        odds_ratio, p_value = stats.fisher_exact(tabela)\n",
    "\n",
    "        print(f\"Odds Ratio: {odds_ratio:.4f}\")\n",
    "        print(f\"P-value: {p_value:.6f}\")\n",
    "\n",
    "         # Interpretação\n",
    "        if p_value < 0.001:\n",
    "            sig = \"*** (p < 0.001)\"\n",
    "        elif p_value < 0.01:\n",
    "            sig = \"** (p < 0.01)\"\n",
    "        elif p_value < 0.05:\n",
    "            sig = \"* (p < 0.05)\"\n",
    "        else:\n",
    "            sig = \"ns (p >= 0.05)\"\n",
    "        \n",
    "        print(f\"Significância: {sig}\")\n",
    "        \n",
    "        return odds_ratio, p_value, sig\n",
    "        \n",
    "    except Exception as e:\n",
    "        print(f\"❌ Erro no teste: {e}\")\n",
    "        return None, None, None\n"
   ]
  },
  {
   "cell_type": "code",
   "execution_count": 13,
   "id": "abadd029",
   "metadata": {},
   "outputs": [
    {
     "name": "stdout",
     "output_type": "stream",
     "text": [
      "\n",
      "=== Teste de Fisher: resultado_julgamento vs categoria_vinculo ===\n",
      "Tabela de contigência\n",
      "categoria_vinculo     0.0  1.0\n",
      "resultado_julgamento          \n",
      "0                       0   13\n",
      "1                      46   48\n",
      "Odds Ratio: 0.0000\n",
      "P-value: 0.000499\n",
      "Significância: *** (p < 0.001)\n",
      "\n",
      "resultado_julgamento_vs_categoria_vinculo:\n",
      "  Odds Ratio: 0.0000\n",
      "  P-valor: 0.000499\n",
      "  Significância: *** (p < 0.001)\n"
     ]
    }
   ],
   "source": [
    "## Vamos executar o teste\n",
    "\n",
    "# Inicializar o dicionário de resultados\n",
    "\n",
    "resultados = {}\n",
    "\n",
    "## Teste 1: resultado_julgamento vs categoria_vinculo\n",
    "\n",
    "odds1, p1, sig1 = teste_fisher('resultado_julgamento', 'categoria_vinculo', dados_limpos)\n",
    "resultados['resultado_julgamento_vs_categoria_vinculo'] = {'odds_ratio': odds1, 'p_value': p1, 'significancia': sig1}\n",
    "\n",
    "for teste, resultado in resultados.items():\n",
    "    if resultado['odds_ratio'] is not None:\n",
    "        print(f\"\\n{teste}:\")\n",
    "        print(f\"  Odds Ratio: {resultado['odds_ratio']:.4f}\")\n",
    "        print(f\"  P-valor: {resultado['p_value']:.6f}\")\n",
    "        print(f\"  Significância: {resultado['significancia']}\")\n",
    "    else:\n",
    "        print(f\"\\n{teste}: Teste não executado\")"
   ]
  },
  {
   "cell_type": "markdown",
   "id": "29dbb883",
   "metadata": {},
   "source": [
    "## Interpretação\n",
    "\n",
    "#### **Resultado do Julgamento vs Categoria de Vínculo**\n",
    "\n",
    "• Odds Ratio: 0.\n",
    "\n",
    "• P-valor: 0.000410\n",
    "\n",
    "1. Odds ratio = 0: Uma das células da tabela de contingência é zero. Nenhum caso do tipo abusivo na amostra foi absolvido. \n",
    "\n",
    "2.  Dos casos com vínculo afetivo na amostra, 48 foram condenados e 13 absolvidos. \n",
    "\n",
    "3.  Dos casos considerados como abuso na amostra, 46 foram condenados. \n",
    "\n",
    "**Conclusão:** *Ter vínculo afetivo pode alterar a decisão do julgamento*.\n",
    "\n",
    "**• O p-valor está abaixo de 0.05 (0.000499), indicando uma associação forte entre resultado do julgamento e tipo de vínculo.**"
   ]
  },
  {
   "cell_type": "code",
   "execution_count": 14,
   "id": "2b62535f",
   "metadata": {},
   "outputs": [
    {
     "name": "stdout",
     "output_type": "stream",
     "text": [
      "     ID_processo  resultado_julgamento  coab\n",
      "0         148088                     1   NaN\n",
      "1         203354                     1   0.0\n",
      "2         211280                     1   NaN\n",
      "3         264516                     1   NaN\n",
      "4         849912                     1   0.0\n",
      "..           ...                   ...   ...\n",
      "126       197716                     0   1.0\n",
      "127       152449                     0   NaN\n",
      "128       772844                     0   NaN\n",
      "130       210396                     0   1.0\n",
      "131       191972                     0   NaN\n",
      "\n",
      "[131 rows x 3 columns]\n",
      "Total de observações originais: 132\n",
      "Total de observações final: 131\n"
     ]
    }
   ],
   "source": [
    "## Analisando Coabitação\n",
    "\n",
    "## Filtrando apenas para as variáveis de interesse\n",
    "\n",
    "variaveis_interesse_2 = ['ID_processo','resultado_julgamento', 'coab']\n",
    "dados_filtrados_2 = dados[variaveis_interesse_2].copy()\n",
    "dados_filtrados_2 = dados_filtrados_2[dados_filtrados_2['ID_processo'] != 202146] ## removendo um dos processos\n",
    "print(dados_filtrados_2)\n",
    "print(f\"Total de observações originais: {len(dados)}\")\n",
    "print(f\"Total de observações final: {len(dados_filtrados_2)}\")"
   ]
  },
  {
   "cell_type": "code",
   "execution_count": null,
   "id": "34f934ad",
   "metadata": {},
   "outputs": [
    {
     "name": "stdout",
     "output_type": "stream",
     "text": [
      "ID_processo:\n",
      "  Missing values: 0 (0.0%)\n",
      "  Valores únicos: [148088 203354 211280 264516 849912 804741 254352 202422 224010 200221\n",
      " 184262 132092 835236 173028 191800 193481 694900 184789 174559 146576\n",
      " 143912 280782 212700 215458 885416 913497 208333 212840 871265 249385\n",
      " 157443 239068 259005 176898 176979 527774 171531 176559 169452 149635\n",
      " 175618 140372 143672 155742 158776 231453 134780 195164 831541 800685\n",
      " 795482 210952 208602 722014 681080 676155 199917 197973 197199 208631\n",
      " 237957 147619 183064 201216 195723 169551 208489 226153 185259 630372\n",
      " 188501 189990 142704 163831 153688 379763 477088 382196 387667 160739\n",
      " 185437 163595 176254 171010 136005 165091 155347 158511 162216 154015\n",
      " 728575 110419 283470 966382 170792 216534 961744 159217 270098 211850\n",
      " 214764 231698 248059 279235 166443 172188 118368 221858 230572 201531\n",
      " 265254 240573 238961 201966 202969 206484 204528 202900 155503 897015\n",
      " 217780 211854 210161 197716 152449 772844 210396 191972]\n",
      "resultado_julgamento:\n",
      "  Missing values: 0 (0.0%)\n",
      "  Valores únicos: [1 0]\n",
      "coab:\n",
      "  Missing values: 76 (58.0%)\n",
      "  Valores únicos: [nan  0.  1.]\n"
     ]
    }
   ],
   "source": [
    "## Verificando missing values\n",
    "\n",
    "for var in variaveis_interesse_2:\n",
    "    missing_count = dados_filtrados_2[var].isna().sum()\n",
    "    missing_percent = (missing_count/len(dados_filtrados_2)) * 100\n",
    "    print(f\"{var}:\")\n",
    "    print(f\"  Missing values: {missing_count} ({missing_percent:.1f}%)\")\n",
    "    print(f\"  Valores únicos: {dados_filtrados_2[var].unique()}\")\n",
    "\n",
    "## Das 131 observações, 76 são missing values. Talvez essa variável não seja relevante mais. "
   ]
  },
  {
   "cell_type": "code",
   "execution_count": null,
   "id": "8ea8224d",
   "metadata": {},
   "outputs": [
    {
     "name": "stdout",
     "output_type": "stream",
     "text": [
      "ID_processo: 55 observações\n",
      "resultado_julgamento: 55 observações\n",
      "coab: 55 observações\n"
     ]
    }
   ],
   "source": [
    "## Vamos remover esses valores faltantes da tabela filtrada\n",
    "\n",
    "dados_limpos_2 = dados_filtrados_2.dropna()\n",
    "\n",
    "for var in variaveis_interesse_2:\n",
    "    observacoes_variavel = len(dados_limpos_2[var])\n",
    "    print(f\"{var}: {observacoes_variavel} observações\")\n",
    "\n",
    "## Isso significa que temos apenas 55 observações com informação COMPLETA. "
   ]
  },
  {
   "cell_type": "code",
   "execution_count": 17,
   "id": "fa586f56",
   "metadata": {},
   "outputs": [
    {
     "name": "stdout",
     "output_type": "stream",
     "text": [
      "\n",
      "=== Teste de Fisher: resultado_julgamento vs coab ===\n",
      "Tabela de contigência\n",
      "coab                  0.0  1.0\n",
      "resultado_julgamento          \n",
      "0                       0   10\n",
      "1                      35   10\n",
      "Odds Ratio: 0.0000\n",
      "P-value: 0.000006\n",
      "Significância: *** (p < 0.001)\n",
      "\n",
      "resultado_julgamento_vs_coabitacao:\n",
      "  Odds Ratio: 0.0000\n",
      "  P-valor: 0.000006\n",
      "  Significância: *** (p < 0.001)\n"
     ]
    }
   ],
   "source": [
    "## Vamos executar o teste\n",
    "\n",
    "# Inicializar o dicionário de resultados\n",
    "\n",
    "resultados = {}\n",
    "\n",
    "## Teste 2: resultado_julgamento vs coabitação\n",
    "\n",
    "odds1, p1, sig1 = teste_fisher('resultado_julgamento', 'coab', dados_limpos_2)\n",
    "resultados['resultado_julgamento_vs_coabitacao'] = {'odds_ratio': odds1, 'p_value': p1, 'significancia': sig1}\n",
    "\n",
    "for teste, resultado in resultados.items():\n",
    "    if resultado['odds_ratio'] is not None:\n",
    "        print(f\"\\n{teste}:\")\n",
    "        print(f\"  Odds Ratio: {resultado['odds_ratio']:.4f}\")\n",
    "        print(f\"  P-valor: {resultado['p_value']:.6f}\")\n",
    "        print(f\"  Significância: {resultado['significancia']}\")\n",
    "    else:\n",
    "        print(f\"\\n{teste}: Teste não executado\")"
   ]
  },
  {
   "cell_type": "markdown",
   "id": "6783938f",
   "metadata": {},
   "source": [
    "## Interpretação\n",
    "\n",
    "#### **Resultado do Julgamento vs Coabitação**\n",
    "\n",
    "• Odds Ratio: 0.\n",
    "\n",
    "• P-valor: 0.000006\n",
    "\n",
    "1. Odds ratio = 0: Uma das células da tabela de contingência é zero. Nenhum caso do tipo sem coabitação foi absolvido. \n",
    "\n",
    "2.  Dos casos com coabitação, 10 foram condenados e 10 absolvidos. \n",
    "\n",
    "3.  Dos casos sem coabitação, 35 foram condenados. \n",
    "\n",
    "**Conclusão:** *a coabitação altera a decisão do julgamento*.\n",
    "\n",
    "**• O p-valor está abaixo de 0.05 (0.000006), indicando uma associação forte entre resultado do julgamento e coabitação.**\n",
    "\n",
    "**• Esse resultado deve ser analisado com cautela porque essa amostra é pequena.**\n"
   ]
  },
  {
   "cell_type": "code",
   "execution_count": 18,
   "id": "7540def1",
   "metadata": {},
   "outputs": [
    {
     "name": "stdout",
     "output_type": "stream",
     "text": [
      "     ID_processo  resultado_julgamento  filhos\n",
      "0         148088                     1     0.0\n",
      "1         203354                     1     0.0\n",
      "2         211280                     1     0.0\n",
      "3         264516                     1     NaN\n",
      "4         849912                     1     1.0\n",
      "..           ...                   ...     ...\n",
      "126       197716                     0     1.0\n",
      "127       152449                     0     1.0\n",
      "128       772844                     0     0.0\n",
      "130       210396                     0     0.0\n",
      "131       191972                     0     1.0\n",
      "\n",
      "[131 rows x 3 columns]\n",
      "Total de observações originais: 132\n",
      "Total de observações final: 131\n"
     ]
    }
   ],
   "source": [
    "## Analisando existência de filhos\n",
    "\n",
    "## Filtrando apenas para as variáveis de interesse\n",
    "\n",
    "variaveis_interesse_3 = ['ID_processo','resultado_julgamento', 'filhos']\n",
    "dados_filtrados_3 = dados[variaveis_interesse_3].copy()\n",
    "dados_filtrados_3 = dados_filtrados_3[dados_filtrados_3['ID_processo'] != 202146] ## removendo um dos processos\n",
    "print(dados_filtrados_3)\n",
    "print(f\"Total de observações originais: {len(dados)}\")\n",
    "print(f\"Total de observações final: {len(dados_filtrados_3)}\")"
   ]
  },
  {
   "cell_type": "code",
   "execution_count": null,
   "id": "d2f7452f",
   "metadata": {},
   "outputs": [
    {
     "name": "stdout",
     "output_type": "stream",
     "text": [
      "ID_processo:\n",
      "  Missing values: 0 (0.0%)\n",
      "  Valores únicos: [148088 203354 211280 264516 849912 804741 254352 202422 224010 200221\n",
      " 184262 132092 835236 173028 191800 193481 694900 184789 174559 146576\n",
      " 143912 280782 212700 215458 885416 913497 208333 212840 871265 249385\n",
      " 157443 239068 259005 176898 176979 527774 171531 176559 169452 149635\n",
      " 175618 140372 143672 155742 158776 231453 134780 195164 831541 800685\n",
      " 795482 210952 208602 722014 681080 676155 199917 197973 197199 208631\n",
      " 237957 147619 183064 201216 195723 169551 208489 226153 185259 630372\n",
      " 188501 189990 142704 163831 153688 379763 477088 382196 387667 160739\n",
      " 185437 163595 176254 171010 136005 165091 155347 158511 162216 154015\n",
      " 728575 110419 283470 966382 170792 216534 961744 159217 270098 211850\n",
      " 214764 231698 248059 279235 166443 172188 118368 221858 230572 201531\n",
      " 265254 240573 238961 201966 202969 206484 204528 202900 155503 897015\n",
      " 217780 211854 210161 197716 152449 772844 210396 191972]\n",
      "resultado_julgamento:\n",
      "  Missing values: 0 (0.0%)\n",
      "  Valores únicos: [1 0]\n",
      "filhos:\n",
      "  Missing values: 43 (32.8%)\n",
      "  Valores únicos: [ 0. nan  1.]\n"
     ]
    }
   ],
   "source": [
    "## Verificando missing values\n",
    "\n",
    "for var in variaveis_interesse_3:\n",
    "    missing_count = dados_filtrados_3[var].isna().sum()\n",
    "    missing_percent = (missing_count/len(dados_filtrados_3)) * 100\n",
    "    print(f\"{var}:\")\n",
    "    print(f\"  Missing values: {missing_count} ({missing_percent:.1f}%)\")\n",
    "    print(f\"  Valores únicos: {dados_filtrados_3[var].unique()}\")\n",
    "\n",
    "# 32% da amostra tem missing values. "
   ]
  },
  {
   "cell_type": "code",
   "execution_count": 20,
   "id": "02a3152a",
   "metadata": {},
   "outputs": [
    {
     "name": "stdout",
     "output_type": "stream",
     "text": [
      "ID_processo: 88 observações\n",
      "resultado_julgamento: 88 observações\n",
      "filhos: 88 observações\n"
     ]
    }
   ],
   "source": [
    "## Vamos remover esses valores faltantes da tabela filtrada\n",
    "\n",
    "dados_limpos_3 = dados_filtrados_3.dropna()\n",
    "\n",
    "for var in variaveis_interesse_3:\n",
    "    observacoes_variavel = len(dados_limpos_3[var])\n",
    "    print(f\"{var}: {observacoes_variavel} observações\")"
   ]
  },
  {
   "cell_type": "code",
   "execution_count": null,
   "id": "2d77b62f",
   "metadata": {},
   "outputs": [
    {
     "name": "stdout",
     "output_type": "stream",
     "text": [
      "\n",
      "=== Teste de Fisher: resultado_julgamento vs filhos ===\n",
      "Tabela de contigência\n",
      "filhos                0.0  1.0\n",
      "resultado_julgamento          \n",
      "0                       4   13\n",
      "1                      60   11\n",
      "Odds Ratio: 0.0564\n",
      "P-value: 0.000003\n",
      "Significância: *** (p < 0.001)\n",
      "\n",
      "resultado_julgamento_vs_filhos:\n",
      "  Odds Ratio: 0.0564\n",
      "  P-valor: 0.000003\n",
      "  Significância: *** (p < 0.001)\n"
     ]
    }
   ],
   "source": [
    "## Vamos executar o teste\n",
    "\n",
    "# Inicializar o dicionário de resultados\n",
    "\n",
    "resultados = {}\n",
    "\n",
    "## Teste 3: resultado_julgamento vs existência de filhos\n",
    "\n",
    "odds1, p1, sig1 = teste_fisher('resultado_julgamento', 'filhos', dados_limpos_3)\n",
    "resultados['resultado_julgamento_vs_filhos'] = {'odds_ratio': odds1, 'p_value': p1, 'significancia': sig1}\n",
    "\n",
    "for teste, resultado in resultados.items():\n",
    "    if resultado['odds_ratio'] is not None:\n",
    "        print(f\"\\n{teste}:\")\n",
    "        print(f\"  Odds Ratio: {resultado['odds_ratio']:.4f}\")\n",
    "        print(f\"  P-valor: {resultado['p_value']:.6f}\")\n",
    "        print(f\"  Significância: {resultado['significancia']}\")\n",
    "    else:\n",
    "        print(f\"\\n{teste}: Teste não executado\")"
   ]
  },
  {
   "cell_type": "markdown",
   "id": "9bfd6842",
   "metadata": {},
   "source": [
    "## Interpretação\n",
    "\n",
    "#### **Resultado do Julgamento vs Filhos**\n",
    "\n",
    "1. Odds Ratio: 0.056 (< 1). Associação negativa entre as variáveis em questão. Ter filhos diminui as chances de ser condenado. De acordo com a amostra coletada, a chance de absolvição em réus sem filhos é apenas ~5,6% da chance de absolvição de réus com filhos. P-valor: 0.000003, significância a 1% (muito significante).\n",
    "\n",
    "2.  Dos casos com filho na amostra, 11 foram condenados e 13 absolvidos. \n",
    "\n",
    "3.  Dos casos sem filhos na amostra, 60 foram condenados e 4 absolvidos. \n",
    "\n",
    "**Conclusão:** *réus com filhos têm muito mais chance de serem absolvidos*.\n",
    "\n",
    "**• O p-valor está abaixo de 0.05 (0.000003), indicando uma associação forte entre resultado do julgamento e a existência de filhos.**"
   ]
  },
  {
   "cell_type": "code",
   "execution_count": 22,
   "id": "2df970db",
   "metadata": {},
   "outputs": [
    {
     "name": "stdout",
     "output_type": "stream",
     "text": [
      "     ID_processo  resultado_julgamento  consentimento_familiar\n",
      "0         148088                     1                     1.0\n",
      "1         203354                     1                     0.0\n",
      "2         211280                     1                     0.0\n",
      "3         264516                     1                     0.0\n",
      "4         849912                     1                     0.0\n",
      "..           ...                   ...                     ...\n",
      "126       197716                     0                     1.0\n",
      "127       152449                     0                     0.0\n",
      "128       772844                     0                     1.0\n",
      "130       210396                     0                     1.0\n",
      "131       191972                     0                     1.0\n",
      "\n",
      "[131 rows x 3 columns]\n",
      "Total de observações originais: 132\n",
      "Total de observações final: 131\n"
     ]
    }
   ],
   "source": [
    "## Analisando consentimento familiar\n",
    "\n",
    "## Filtrando apenas para as variáveis de interesse\n",
    "\n",
    "variaveis_interesse_4 = ['ID_processo','resultado_julgamento', 'consentimento_familiar']\n",
    "dados_filtrados_4 = dados[variaveis_interesse_4].copy()\n",
    "dados_filtrados_4 = dados_filtrados_4[dados_filtrados_4['ID_processo'] != 202146] ## removendo um dos processos\n",
    "print(dados_filtrados_4)\n",
    "print(f\"Total de observações originais: {len(dados)}\")\n",
    "print(f\"Total de observações final: {len(dados_filtrados_4)}\")"
   ]
  },
  {
   "cell_type": "code",
   "execution_count": null,
   "id": "6a98e5ce",
   "metadata": {},
   "outputs": [
    {
     "name": "stdout",
     "output_type": "stream",
     "text": [
      "ID_processo:\n",
      "  Missing values: 0 (0.0%)\n",
      "  Valores únicos: [148088 203354 211280 264516 849912 804741 254352 202422 224010 200221\n",
      " 184262 132092 835236 173028 191800 193481 694900 184789 174559 146576\n",
      " 143912 280782 212700 215458 885416 913497 208333 212840 871265 249385\n",
      " 157443 239068 259005 176898 176979 527774 171531 176559 169452 149635\n",
      " 175618 140372 143672 155742 158776 231453 134780 195164 831541 800685\n",
      " 795482 210952 208602 722014 681080 676155 199917 197973 197199 208631\n",
      " 237957 147619 183064 201216 195723 169551 208489 226153 185259 630372\n",
      " 188501 189990 142704 163831 153688 379763 477088 382196 387667 160739\n",
      " 185437 163595 176254 171010 136005 165091 155347 158511 162216 154015\n",
      " 728575 110419 283470 966382 170792 216534 961744 159217 270098 211850\n",
      " 214764 231698 248059 279235 166443 172188 118368 221858 230572 201531\n",
      " 265254 240573 238961 201966 202969 206484 204528 202900 155503 897015\n",
      " 217780 211854 210161 197716 152449 772844 210396 191972]\n",
      "resultado_julgamento:\n",
      "  Missing values: 0 (0.0%)\n",
      "  Valores únicos: [1 0]\n",
      "consentimento_familiar:\n",
      "  Missing values: 9 (6.9%)\n",
      "  Valores únicos: [ 1.  0. nan]\n"
     ]
    }
   ],
   "source": [
    "## Verificando missing values\n",
    "\n",
    "for var in variaveis_interesse_4:\n",
    "    missing_count = dados_filtrados_4[var].isna().sum()\n",
    "    missing_percent = (missing_count/len(dados_filtrados_4)) * 100\n",
    "    print(f\"{var}:\")\n",
    "    print(f\"  Missing values: {missing_count} ({missing_percent:.1f}%)\")\n",
    "    print(f\"  Valores únicos: {dados_filtrados_4[var].unique()}\")\n",
    "\n",
    "# 7% da amostra tem missing values. "
   ]
  },
  {
   "cell_type": "code",
   "execution_count": null,
   "id": "42bb0fcb",
   "metadata": {},
   "outputs": [
    {
     "name": "stdout",
     "output_type": "stream",
     "text": [
      "ID_processo: 122 observações\n",
      "resultado_julgamento: 122 observações\n",
      "consentimento_familiar: 122 observações\n"
     ]
    }
   ],
   "source": [
    "## Vamos remover esses valores faltantes da tabela filtrada\n",
    "\n",
    "dados_limpos_4 = dados_filtrados_4.dropna()\n",
    "\n",
    "for var in variaveis_interesse_4:\n",
    "    observacoes_variavel = len(dados_limpos_4[var])\n",
    "    print(f\"{var}: {observacoes_variavel} observações\")\n",
    "\n",
    "## Amostra final com 122 observações."
   ]
  },
  {
   "cell_type": "code",
   "execution_count": 25,
   "id": "91d67255",
   "metadata": {},
   "outputs": [
    {
     "name": "stdout",
     "output_type": "stream",
     "text": [
      "\n",
      "=== Teste de Fisher: resultado_julgamento vs consentimento_familiar ===\n",
      "Tabela de contigência\n",
      "consentimento_familiar  0.0  1.0\n",
      "resultado_julgamento            \n",
      "0                         7   13\n",
      "1                        83   19\n",
      "Odds Ratio: 0.1233\n",
      "P-value: 0.000069\n",
      "Significância: *** (p < 0.001)\n",
      "\n",
      "resultado_julgamento_vs_consentimento_familiar:\n",
      "  Odds Ratio: 0.1233\n",
      "  P-valor: 0.000069\n",
      "  Significância: *** (p < 0.001)\n"
     ]
    }
   ],
   "source": [
    "## Vamos executar o teste\n",
    "\n",
    "# Inicializar o dicionário de resultados\n",
    "\n",
    "resultados = {}\n",
    "\n",
    "## Teste 4: resultado_julgamento vs consentimento familiar\n",
    "\n",
    "odds1, p1, sig1 = teste_fisher('resultado_julgamento', 'consentimento_familiar', dados_limpos_4)\n",
    "resultados['resultado_julgamento_vs_consentimento_familiar'] = {'odds_ratio': odds1, 'p_value': p1, 'significancia': sig1}\n",
    "\n",
    "for teste, resultado in resultados.items():\n",
    "    if resultado['odds_ratio'] is not None:\n",
    "        print(f\"\\n{teste}:\")\n",
    "        print(f\"  Odds Ratio: {resultado['odds_ratio']:.4f}\")\n",
    "        print(f\"  P-valor: {resultado['p_value']:.6f}\")\n",
    "        print(f\"  Significância: {resultado['significancia']}\")\n",
    "    else:\n",
    "        print(f\"\\n{teste}: Teste não executado\")"
   ]
  },
  {
   "cell_type": "markdown",
   "id": "419938c2",
   "metadata": {},
   "source": [
    "## Interpretação\n",
    "\n",
    "#### **Resultado do Julgamento vs Consentimento Familiar**\n",
    "\n",
    "1. Odds Ratio: 0.1233 (< 1). Associação negativa entre as variáveis em questão. O consentimento familiar diminui as chances de ser condenado. De acordo com a amostra coletada, a chance de absolvição em casos sem consentimento familiar é ~12,3% da chance de absolvição de casos com consentimento familiar. P-valor: 0.000069, significância a 1% (muito significante).\n",
    "\n",
    "2.  Dos casos com consentimento familiar na amostra, 19 foram condenados e 13 absolvidos. \n",
    "\n",
    "3.  Dos casos sem consentimento familiar amostra, 83 foram condenados e 7 absolvidos. \n",
    "\n",
    "**Conclusão:** *quando há consentimento familiar, os réus tem mais chance de serem absolvidos*.\n",
    "\n",
    "**• O p-valor está abaixo de 0.05 (0.000003), indicando uma associação forte entre resultado do julgamento e o consentimento familiar.**"
   ]
  },
  {
   "cell_type": "code",
   "execution_count": 26,
   "id": "911e54be",
   "metadata": {},
   "outputs": [
    {
     "name": "stdout",
     "output_type": "stream",
     "text": [
      "     ID_processo  resultado_julgamento  consentimento_vitima\n",
      "0         148088                     1                   1.0\n",
      "1         203354                     1                   1.0\n",
      "2         211280                     1                   1.0\n",
      "3         264516                     1                   1.0\n",
      "4         849912                     1                   1.0\n",
      "..           ...                   ...                   ...\n",
      "126       197716                     0                   1.0\n",
      "127       152449                     0                   1.0\n",
      "128       772844                     0                   1.0\n",
      "130       210396                     0                   1.0\n",
      "131       191972                     0                   1.0\n",
      "\n",
      "[131 rows x 3 columns]\n",
      "Total de observações originais: 132\n",
      "Total de observações final: 131\n"
     ]
    }
   ],
   "source": [
    "## Analisando consentimento da vítima\n",
    "\n",
    "## Filtrando apenas para as variáveis de interesse\n",
    "\n",
    "variaveis_interesse_5 = ['ID_processo','resultado_julgamento', 'consentimento_vitima']\n",
    "dados_filtrados_5 = dados[variaveis_interesse_5].copy()\n",
    "dados_filtrados_5 = dados_filtrados_5[dados_filtrados_5['ID_processo'] != 202146] ## removendo um dos processos\n",
    "print(dados_filtrados_5)\n",
    "print(f\"Total de observações originais: {len(dados)}\")\n",
    "print(f\"Total de observações final: {len(dados_filtrados_5)}\")"
   ]
  },
  {
   "cell_type": "code",
   "execution_count": null,
   "id": "d5b6ec62",
   "metadata": {},
   "outputs": [
    {
     "name": "stdout",
     "output_type": "stream",
     "text": [
      "ID_processo:\n",
      "  Missing values: 0 (0.0%)\n",
      "  Valores únicos: [148088 203354 211280 264516 849912 804741 254352 202422 224010 200221\n",
      " 184262 132092 835236 173028 191800 193481 694900 184789 174559 146576\n",
      " 143912 280782 212700 215458 885416 913497 208333 212840 871265 249385\n",
      " 157443 239068 259005 176898 176979 527774 171531 176559 169452 149635\n",
      " 175618 140372 143672 155742 158776 231453 134780 195164 831541 800685\n",
      " 795482 210952 208602 722014 681080 676155 199917 197973 197199 208631\n",
      " 237957 147619 183064 201216 195723 169551 208489 226153 185259 630372\n",
      " 188501 189990 142704 163831 153688 379763 477088 382196 387667 160739\n",
      " 185437 163595 176254 171010 136005 165091 155347 158511 162216 154015\n",
      " 728575 110419 283470 966382 170792 216534 961744 159217 270098 211850\n",
      " 214764 231698 248059 279235 166443 172188 118368 221858 230572 201531\n",
      " 265254 240573 238961 201966 202969 206484 204528 202900 155503 897015\n",
      " 217780 211854 210161 197716 152449 772844 210396 191972]\n",
      "resultado_julgamento:\n",
      "  Missing values: 0 (0.0%)\n",
      "  Valores únicos: [1 0]\n",
      "consentimento_vitima:\n",
      "  Missing values: 4 (3.1%)\n",
      "  Valores únicos: [ 1.  0. nan]\n"
     ]
    }
   ],
   "source": [
    "## Verificando missing values\n",
    "\n",
    "for var in variaveis_interesse_5:\n",
    "    missing_count = dados_filtrados_5[var].isna().sum()\n",
    "    missing_percent = (missing_count/len(dados_filtrados_5)) * 100\n",
    "    print(f\"{var}:\")\n",
    "    print(f\"  Missing values: {missing_count} ({missing_percent:.1f}%)\")\n",
    "    print(f\"  Valores únicos: {dados_filtrados_5[var].unique()}\")\n",
    "\n",
    "# 3% da amostra tem missing values. "
   ]
  },
  {
   "cell_type": "code",
   "execution_count": null,
   "id": "e7b5b1b8",
   "metadata": {},
   "outputs": [
    {
     "name": "stdout",
     "output_type": "stream",
     "text": [
      "ID_processo: 127 observações\n",
      "resultado_julgamento: 127 observações\n",
      "consentimento_vitima: 127 observações\n"
     ]
    }
   ],
   "source": [
    "## Vamos remover esses valores faltantes da tabela filtrada\n",
    "\n",
    "dados_limpos_5 = dados_filtrados_5.dropna()\n",
    "\n",
    "for var in variaveis_interesse_5:\n",
    "    observacoes_variavel = len(dados_limpos_5[var])\n",
    "    print(f\"{var}: {observacoes_variavel} observações\")\n",
    "\n",
    "## Amostra final com 127 observações."
   ]
  },
  {
   "cell_type": "code",
   "execution_count": 29,
   "id": "0becbda8",
   "metadata": {},
   "outputs": [
    {
     "name": "stdout",
     "output_type": "stream",
     "text": [
      "\n",
      "=== Teste de Fisher: resultado_julgamento vs consentimento_vitima ===\n",
      "Tabela de contigência\n",
      "consentimento_vitima  0.0  1.0\n",
      "resultado_julgamento          \n",
      "0                       0   20\n",
      "1                      19   88\n",
      "Odds Ratio: 0.0000\n",
      "P-value: 0.041795\n",
      "Significância: * (p < 0.05)\n",
      "\n",
      "resultado_julgamento_vs_consentimento_vitima:\n",
      "  Odds Ratio: 0.0000\n",
      "  P-valor: 0.041795\n",
      "  Significância: * (p < 0.05)\n"
     ]
    }
   ],
   "source": [
    "## Vamos executar o teste\n",
    "\n",
    "# Inicializar o dicionário de resultados\n",
    "\n",
    "resultados = {}\n",
    "\n",
    "## Teste 5: resultado_julgamento vs consentimento da vítima\n",
    "\n",
    "odds1, p1, sig1 = teste_fisher('resultado_julgamento', 'consentimento_vitima', dados_limpos_5)\n",
    "resultados['resultado_julgamento_vs_consentimento_vitima'] = {'odds_ratio': odds1, 'p_value': p1, 'significancia': sig1}\n",
    "\n",
    "for teste, resultado in resultados.items():\n",
    "    if resultado['odds_ratio'] is not None:\n",
    "        print(f\"\\n{teste}:\")\n",
    "        print(f\"  Odds Ratio: {resultado['odds_ratio']:.4f}\")\n",
    "        print(f\"  P-valor: {resultado['p_value']:.6f}\")\n",
    "        print(f\"  Significância: {resultado['significancia']}\")\n",
    "    else:\n",
    "        print(f\"\\n{teste}: Teste não executado\")"
   ]
  },
  {
   "cell_type": "markdown",
   "id": "5fad37da",
   "metadata": {},
   "source": [
    "## Interpretação\n",
    "\n",
    "#### **Resultado do Julgamento vs Consentimento Familiar**\n",
    "\n",
    "1. Odds Ratio: 0 (tende a zero ou é indefinido). Há zero na tabela de contingência. A chance de absolvição sem consentimento é praticamente inexistente na amostra.\n",
    "\n",
    "2.  Dos casos com consentimento da vítima na amostra, 88 foram condenados e 20 absolvidos. \n",
    "\n",
    "3.  Dos casos sem consentimento da vítima na amostra, 19 foram condenados e 0 absolvidos. \n",
    "\n",
    "**Conclusão:** *quando há consentimento da vítima, os réus tem mais chance de serem absolvidos*.\n",
    "\n",
    "**• O p-valor está abaixo de 0.05 (0.041795), indicando uma associação não aleatória entre resultado do julgamento e o consentimento da vítima, todavia, essa associação não é tão forte ou robusta como nos casos anteriores - pode ser o caso aqui da dificuldade de documentar o consentimento da vítima, que não é claro nos processos.**"
   ]
  }
 ],
 "metadata": {
  "kernelspec": {
   "display_name": "FREDISS",
   "language": "python",
   "name": "python3"
  },
  "language_info": {
   "codemirror_mode": {
    "name": "ipython",
    "version": 3
   },
   "file_extension": ".py",
   "mimetype": "text/x-python",
   "name": "python",
   "nbconvert_exporter": "python",
   "pygments_lexer": "ipython3",
   "version": "3.13.2"
  }
 },
 "nbformat": 4,
 "nbformat_minor": 5
}
