{
 "cells": [
  {
   "cell_type": "markdown",
   "id": "b2a2c686",
   "metadata": {},
   "source": [
    "### Dissertação de Mestrado: Frederico Gomes\n",
    "\n",
    "• Autor: Maria Luiza Campos\n",
    "\n",
    "• Data: Julho 2025\n",
    "\n",
    "**Metodologia:** Teste Exato de Fisher seguido por regressão logística para averiguar robustez. "
   ]
  },
  {
   "cell_type": "code",
   "execution_count": 3,
   "id": "888e47ed",
   "metadata": {},
   "outputs": [
    {
     "name": "stdout",
     "output_type": "stream",
     "text": [
      "Dados importados com sucesso!\n"
     ]
    }
   ],
   "source": [
    "## Importando bibliotecas\n",
    "\n",
    "import pandas as pd\n",
    "import numpy as np\n",
    "from scipy import stats\n",
    "import matplotlib.pyplot as plt\n",
    "import seaborn as sns\n",
    "\n",
    "## Importando os dados\n",
    "\n",
    "dados = pd.read_csv('dado_limpos.csv')\n",
    "print(\"Dados importados com sucesso!\")"
   ]
  },
  {
   "cell_type": "code",
   "execution_count": null,
   "id": "459901b5",
   "metadata": {},
   "outputs": [
    {
     "name": "stdout",
     "output_type": "stream",
     "text": [
      "     ID_processo  resultado_julgamento  categoria_vinculo  filhos\n",
      "0         148088                     1                1.0     0.0\n",
      "1         203354                     1                0.0     0.0\n",
      "2         211280                     1                1.0     0.0\n",
      "3         264516                     1                1.0     NaN\n",
      "4         849912                     1                1.0     1.0\n",
      "..           ...                   ...                ...     ...\n",
      "126       197716                     0                1.0     1.0\n",
      "127       152449                     0                1.0     1.0\n",
      "128       772844                     0                1.0     0.0\n",
      "130       210396                     0                NaN     0.0\n",
      "131       191972                     0                NaN     1.0\n",
      "\n",
      "[131 rows x 4 columns]\n",
      "Total de observações originais: 132\n",
      "Total de observações final: 131\n"
     ]
    }
   ],
   "source": [
    "## Filtrando apenas para as variáveis de interesse\n",
    "\n",
    "variaveis_interesse = ['ID_processo','resultado_julgamento', 'categoria_vinculo', 'filhos']\n",
    "dados_filtrados = dados[variaveis_interesse].copy()\n",
    "dados_filtrados = dados_filtrados[dados_filtrados['ID_processo'] != 202146] ## removendo um dos processos\n",
    "print(dados_filtrados)\n",
    "print(f\"Total de observações originais: {len(dados)}\")\n",
    "print(f\"Total de observações final: {len(dados_filtrados)}\")"
   ]
  },
  {
   "cell_type": "code",
   "execution_count": 16,
   "id": "6a495873",
   "metadata": {},
   "outputs": [
    {
     "name": "stdout",
     "output_type": "stream",
     "text": [
      "ID_processo:\n",
      "  Missing values: 0 (0.0%)\n",
      "  Valores únicos: [148088 203354 211280 264516 849912 804741 254352 202422 224010 200221\n",
      " 184262 132092 835236 173028 191800 193481 694900 184789 174559 146576\n",
      " 143912 280782 212700 215458 885416 913497 208333 212840 871265 249385\n",
      " 157443 239068 259005 176898 176979 527774 171531 176559 169452 149635\n",
      " 175618 140372 143672 155742 158776 231453 134780 195164 831541 800685\n",
      " 795482 210952 208602 722014 681080 676155 199917 197973 197199 208631\n",
      " 237957 147619 183064 201216 195723 169551 208489 226153 185259 630372\n",
      " 188501 189990 142704 163831 153688 379763 477088 382196 387667 160739\n",
      " 185437 163595 176254 171010 136005 165091 155347 158511 162216 154015\n",
      " 728575 110419 283470 966382 170792 216534 961744 159217 270098 211850\n",
      " 214764 231698 248059 279235 166443 172188 118368 221858 230572 201531\n",
      " 265254 240573 238961 201966 202969 206484 204528 202900 155503 897015\n",
      " 217780 211854 210161 197716 152449 772844 210396 191972]\n",
      "resultado_julgamento:\n",
      "  Missing values: 0 (0.0%)\n",
      "  Valores únicos: [1 0]\n",
      "categoria_vinculo:\n",
      "  Missing values: 24 (18.3%)\n",
      "  Valores únicos: [ 1.  0. nan]\n",
      "filhos:\n",
      "  Missing values: 43 (32.8%)\n",
      "  Valores únicos: [ 0. nan  1.]\n"
     ]
    }
   ],
   "source": [
    "## Verificando missing values\n",
    "\n",
    "for var in variaveis_interesse:\n",
    "    missing_count = dados_filtrados[var].isna().sum()\n",
    "    missing_percent = (missing_count/len(dados_filtrados)) * 100\n",
    "    print(f\"{var}:\")\n",
    "    print(f\"  Missing values: {missing_count} ({missing_percent:.1f}%)\")\n",
    "    print(f\"  Valores únicos: {dados_filtrados[var].unique()}\")\n",
    "\n",
    "## A porcentagem de valores faltantes é grande, especialmente na existência ou não de filhos. \n"
   ]
  },
  {
   "cell_type": "code",
   "execution_count": 17,
   "id": "82ac843d",
   "metadata": {},
   "outputs": [
    {
     "name": "stdout",
     "output_type": "stream",
     "text": [
      "ID_processo: 70 observações\n",
      "resultado_julgamento: 70 observações\n",
      "categoria_vinculo: 70 observações\n",
      "filhos: 70 observações\n"
     ]
    }
   ],
   "source": [
    "## Vamos remover esses valores faltantes da tabela filtrada\n",
    "\n",
    "dados_limpos = dados_filtrados.dropna()\n",
    "\n",
    "for var in variaveis_interesse:\n",
    "    observacoes_variavel = len(dados_limpos[var])\n",
    "    print(f\"{var}: {observacoes_variavel} observações\")\n",
    "\n",
    "## Isso significa que temos apenas 70 observações com informação COMPLETA. "
   ]
  },
  {
   "cell_type": "code",
   "execution_count": 31,
   "id": "6a0d64f5",
   "metadata": {},
   "outputs": [],
   "source": [
    "## Vamos rodar o Teste Exato de Fisher para cada uma das variáveis de interesse\n",
    "\n",
    "## Definindo uma função para o teste\n",
    "\n",
    "def teste_fisher(var1, var2, dados):\n",
    "    \"\"\"\n",
    "    Executa o teste exato de Fisher entre duas variáveis de interesse\n",
    "\n",
    "    \"\"\"\n",
    "    # Criar tabela de contigência\n",
    "    tabela = pd.crosstab(dados[var1], dados[var2])\n",
    "\n",
    "    print(f\"\\n=== Teste de Fisher: {var1} vs {var2} ===\")\n",
    "    print(\"Tabela de contigência\")\n",
    "    print(tabela)\n",
    "\n",
    "    # verificar se a tabela é válida para Fisher\n",
    "    if tabela.shape != (2, 2):\n",
    "        print(f\"⚠️  Tabela {tabela.shape} - Fisher pode não ser apropriado\")\n",
    "        return None, None, None\n",
    "\n",
    "    # Executar teste de fisher\n",
    "    try:\n",
    "        odds_ratio, p_value = stats.fisher_exact(tabela)\n",
    "\n",
    "        print(f\"Odds Ratio: {odds_ratio:.4f}\")\n",
    "        print(f\"P-value: {p_value:.6f}\")\n",
    "\n",
    "         # Interpretação\n",
    "        if p_value < 0.001:\n",
    "            sig = \"*** (p < 0.001)\"\n",
    "        elif p_value < 0.01:\n",
    "            sig = \"** (p < 0.01)\"\n",
    "        elif p_value < 0.05:\n",
    "            sig = \"* (p < 0.05)\"\n",
    "        else:\n",
    "            sig = \"ns (p >= 0.05)\"\n",
    "        \n",
    "        print(f\"Significância: {sig}\")\n",
    "        \n",
    "        return odds_ratio, p_value, sig\n",
    "        \n",
    "    except Exception as e:\n",
    "        print(f\"❌ Erro no teste: {e}\")\n",
    "        return None, None, None\n"
   ]
  },
  {
   "cell_type": "code",
   "execution_count": 32,
   "id": "abadd029",
   "metadata": {},
   "outputs": [
    {
     "name": "stdout",
     "output_type": "stream",
     "text": [
      "\n",
      "=== Teste de Fisher: resultado_julgamento vs categoria_vinculo ===\n",
      "Tabela de contigência\n",
      "categoria_vinculo     0.0  1.0\n",
      "resultado_julgamento          \n",
      "0                       0   11\n",
      "1                      34   25\n",
      "Odds Ratio: 0.0000\n",
      "P-value: 0.000410\n",
      "Significância: *** (p < 0.001)\n",
      "\n",
      "=== Teste de Fisher: resultado_julgamento vs filhos ===\n",
      "Tabela de contigência\n",
      "filhos                0.0  1.0\n",
      "resultado_julgamento          \n",
      "0                       3    8\n",
      "1                      51    8\n",
      "Odds Ratio: 0.0588\n",
      "P-value: 0.000155\n",
      "Significância: *** (p < 0.001)\n",
      "\n",
      "resultado_julgamento_vs_categoria_vinculo:\n",
      "  Odds Ratio: 0.0000\n",
      "  P-valor: 0.000410\n",
      "  Significância: *** (p < 0.001)\n",
      "\n",
      "resultado_julgamento_vs_filhos:\n",
      "  Odds Ratio: 0.0588\n",
      "  P-valor: 0.000155\n",
      "  Significância: *** (p < 0.001)\n"
     ]
    }
   ],
   "source": [
    "## Vamos executar o teste\n",
    "\n",
    "# Inicializar o dicionário de resultados\n",
    "\n",
    "resultados = {}\n",
    "\n",
    "## Teste 1: resultado_julgamento vs categoria_vinculo\n",
    "\n",
    "odds1, p1, sig1 = teste_fisher('resultado_julgamento', 'categoria_vinculo', dados_limpos)\n",
    "resultados['resultado_julgamento_vs_categoria_vinculo'] = {'odds_ratio': odds1, 'p_value': p1, 'significancia': sig1}\n",
    "\n",
    "## Teste 2: resultado_julgamento vs filhos \n",
    "odds2, p2, sig2 = teste_fisher('resultado_julgamento', 'filhos', dados_limpos)\n",
    "resultados['resultado_julgamento_vs_filhos'] = {'odds_ratio': odds2, 'p_value': p2, 'significancia': sig2}\n",
    "\n",
    "for teste, resultado in resultados.items():\n",
    "    if resultado['odds_ratio'] is not None:\n",
    "        print(f\"\\n{teste}:\")\n",
    "        print(f\"  Odds Ratio: {resultado['odds_ratio']:.4f}\")\n",
    "        print(f\"  P-valor: {resultado['p_value']:.6f}\")\n",
    "        print(f\"  Significância: {resultado['significancia']}\")\n",
    "    else:\n",
    "        print(f\"\\n{teste}: Teste não executado\")"
   ]
  },
  {
   "cell_type": "markdown",
   "id": "29dbb883",
   "metadata": {},
   "source": [
    "## Interpretação\n",
    "\n",
    "#### **Resultado do Julgamento vs Tipo de Vínculo**\n",
    "\n",
    "• Odds Ratio: 0.\n",
    "\n",
    "• P-valor: 0.000410\n",
    "\n",
    "1. Isso indica que não houve **nenhum** caso de absolvição quando o vínculo era não afetivo/abuso (razão de chances igual a zero indicando evento impossível de ocorrer). \n",
    "\n",
    "2. Já nos casos com vínculo afetivo, houve absolvições (11 absolvições contra 25 condenações).\n",
    "\n",
    "**Conclusão:** A chance de ser absolvido é significativamente maior quando a relação é afetiva.\n",
    "\n",
    "**• O p-valor está abaixo de 0.05 (0.000410), indicando uma associação forte entre resultado do julgamento e tipo de vínculo.**"
   ]
  },
  {
   "cell_type": "markdown",
   "id": "2f8b1c9c",
   "metadata": {},
   "source": [
    "#### **Resultado do Julgamento vs Presença de Filhos**\n",
    "\n",
    "• Odds Ratio: 0.0588.\n",
    "\n",
    "• P-valor: 0.000155\n",
    "\n",
    "1. Ter filhos **diminui** a chance de condenação (Razão de chances menor que um, indicando associação negativa entre a categoria base (1: ser condenado) e a variável (filho entre as partes).)\n",
    "\n",
    "\n",
    "**Conclusão:** pessoas com filhos têm maior chance de serem absolvidas em comparação com aquelas sem filhos.\n",
    "\n",
    "**• O p-valor está abaixo de 0.05 (0.000155), indicando uma associação forte entre resultado do julgamento e presença de filhos.**"
   ]
  }
 ],
 "metadata": {
  "kernelspec": {
   "display_name": "FREDISS",
   "language": "python",
   "name": "python3"
  },
  "language_info": {
   "codemirror_mode": {
    "name": "ipython",
    "version": 3
   },
   "file_extension": ".py",
   "mimetype": "text/x-python",
   "name": "python",
   "nbconvert_exporter": "python",
   "pygments_lexer": "ipython3",
   "version": "3.13.2"
  }
 },
 "nbformat": 4,
 "nbformat_minor": 5
}
