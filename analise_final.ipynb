{
 "cells": [
  {
   "cell_type": "markdown",
   "id": "b2a2c686",
   "metadata": {},
   "source": [
    "### Dissertação de Mestrado: Frederico Gomes\n",
    "\n",
    "• **Autor:** Maria Luiza Campos\n",
    "\n",
    "• **Data:** Julho 2025\n",
    "\n",
    "**Metodologia:** Teste Exato de Fisher."
   ]
  },
  {
   "cell_type": "code",
   "execution_count": 1,
   "id": "888e47ed",
   "metadata": {},
   "outputs": [
    {
     "name": "stdout",
     "output_type": "stream",
     "text": [
      "Dados importados com sucesso!\n"
     ]
    }
   ],
   "source": [
    "## Importando bibliotecas\n",
    "\n",
    "import pandas as pd\n",
    "import numpy as np\n",
    "from scipy import stats\n",
    "import matplotlib.pyplot as plt\n",
    "import seaborn as sns\n",
    "\n",
    "## Importando os dados\n",
    "\n",
    "dados = pd.read_csv('dados_limpos.csv')\n",
    "print(\"Dados importados com sucesso!\")"
   ]
  },
  {
   "cell_type": "markdown",
   "id": "2984146a",
   "metadata": {},
   "source": [
    "# Entendendo o modelo de análise\n",
    "\n",
    "As variáveis de idade, da forma como estão agrupadas, não comportam um teste exato de Fisher, que necessita de duas categorias não ordinais. \n",
    "Mesmo que agrupassemos as idades, ainda não seria ideal porque idade possui ordem cronológica (é uma variável quantitativa ordinal). Assim, nossas categorias possuem\n",
    "uma ordem de compreensão, sendo 0 indivíduos mais novos e 3 indivíduos mais velhos (em ambos réu e vítima).\n",
    "\n",
    "As demais variáveis são qualitativas nominais, ou seja, as categorias não possuem uma ordem pré-estabelecida e são todas binárias (0,1). Assim, são variáveis ideais para o teste exato de Fisher. Vamos começar nossa análise com essas demais variáveis.\n",
    "\n",
    "### Teste exato de Fisher\n",
    "\n",
    "Esse teste vai nos retornar a existência ou não de uma associação entre as variáveis. Ou seja, não retorna uma correlação - que possui direção e força. O p-valor vai apenas nos informar se existe ou não uma associação válida entre as duas variáveis qualitativas nominais binárias. \n",
    "\n",
    "H0: não existe associação entre as variáveis. \n",
    "\n",
    "Se p-valor for pequeno, então rejeitamos a hipótese nula e podemos afirmar que há associação entre as variáveis. \n",
    "\n",
    "O odds ratio do teste nos fornece informação sobre força e direção da relação. \n",
    "\n",
    "### Notas relevantes sobre a amostra \n",
    "\n",
    "O número de observações se altera a depender da variável independente analisada. Veja abaixo um modelo simples e genérico de equação que representa, visualmente, uma das associações que estamos investigando:\n",
    "\n",
    "Resultado da Condenação [f(x) = y] = B0 + B1 * Existência de filhos (x)\n",
    "\n",
    "Aqui, estamos apenas supondo que o resultado da condenação é uma função da existência de filhos, isto é, a existência de filhos (x, variável independente) afeta o resultado da condenação (y, variável dependente). \n",
    "\n",
    "As variáveis independentes na amostra tem um número variável de observações, ou seja, o tamanho da amostra muda a depender de x. Nesse caso, eu vou trabalhar com sub-amostras pra cada x numa tentativa de exaurir completamente a informação disponível e tirar vantagem de possíveis amostras maiores. \n",
    "\n",
    "\n"
   ]
  },
  {
   "cell_type": "code",
   "execution_count": 2,
   "id": "459901b5",
   "metadata": {},
   "outputs": [
    {
     "name": "stdout",
     "output_type": "stream",
     "text": [
      "     ID_processo  resultado_julgamento  categoria_vinculo\n",
      "0       148088.0                     1                  1\n",
      "1       203354.0                     1                  1\n",
      "2       211280.0                     1                  1\n",
      "3       264516.0                     1                  1\n",
      "4       849912.0                     1                  1\n",
      "..           ...                   ...                ...\n",
      "132     191972.0                     0                  1\n",
      "133     240959.0                     0                  1\n",
      "134     220480.0                     0                  1\n",
      "135     221039.0                     0                  1\n",
      "136     220755.0                     0                  1\n",
      "\n",
      "[137 rows x 3 columns]\n",
      "Total de observações originais: 137\n",
      "Total de observações filtradas: 137\n"
     ]
    }
   ],
   "source": [
    "### Analisando a categoria de vínculo\n",
    "\n",
    "## Filtrando apenas para as variáveis de interesse\n",
    "\n",
    "variaveis_interesse = ['ID_processo','resultado_julgamento', 'categoria_vinculo']\n",
    "dados_filtrados = dados[variaveis_interesse].copy()\n",
    "print(dados_filtrados)\n",
    "print(f\"Total de observações originais: {len(dados)}\")\n",
    "print(f\"Total de observações filtradas: {len(dados_filtrados)}\")"
   ]
  },
  {
   "cell_type": "code",
   "execution_count": 3,
   "id": "6a495873",
   "metadata": {},
   "outputs": [
    {
     "name": "stdout",
     "output_type": "stream",
     "text": [
      "ID_processo:\n",
      "  Missing values: 1 (0.7%)\n",
      "  Valores únicos: [148088. 203354. 211280. 264516. 849912. 804741. 254352. 202422. 224010.\n",
      " 200221. 184262. 132092. 835236. 173028. 191800. 193481. 694900. 184789.\n",
      " 174559. 143912. 280782. 215458. 885416. 913497. 208333. 212840. 871265.\n",
      " 249385. 157443. 239068. 259005. 176898. 176979. 527774. 171531. 176559.\n",
      " 169452. 149635. 175618. 140372. 143672. 155742. 158776. 231453. 134780.\n",
      " 195164. 831541. 800685. 795482. 210952. 208602. 722014. 681080. 676155.\n",
      " 197973. 197199. 208631. 237957. 147619. 183064. 201216. 169551. 208489.\n",
      " 226153. 185259. 630372. 188501. 189990. 142704. 163831. 153688. 379763.\n",
      " 477088. 382196. 387667. 160739. 185437. 163595. 176254. 171010. 136005.\n",
      " 165091. 155347. 158511. 162216. 154015. 728575. 110419. 283470. 966382.\n",
      " 170792. 216534. 961744. 159217. 270098. 211850. 214764. 231698. 248059.\n",
      " 279235. 172188. 118368. 221858.     nan 220261. 976227. 280596. 101478.\n",
      " 293118. 283931. 230572. 201531. 265254. 240573. 238961. 201966. 202969.\n",
      " 206484. 204528. 202900. 155503. 897015. 217780. 211854. 210161. 197716.\n",
      " 152449. 772844. 210396. 191972. 240959. 220480. 221039. 220755.]\n",
      "resultado_julgamento:\n",
      "  Missing values: 0 (0.0%)\n",
      "  Valores únicos: [1 0]\n",
      "categoria_vinculo:\n",
      "  Missing values: 0 (0.0%)\n",
      "  Valores únicos: [1 0]\n"
     ]
    }
   ],
   "source": [
    "## Verificando missing values\n",
    "\n",
    "for var in variaveis_interesse:\n",
    "    missing_count = dados_filtrados[var].isna().sum()\n",
    "    missing_percent = (missing_count/len(dados_filtrados)) * 100\n",
    "    print(f\"{var}:\")\n",
    "    print(f\"  Missing values: {missing_count} ({missing_percent:.1f}%)\")\n",
    "    print(f\"  Valores únicos: {dados_filtrados[var].unique()}\")\n",
    "\n",
    "## Não há missing values, o total de observações com informação completa é 137. \n"
   ]
  },
  {
   "cell_type": "code",
   "execution_count": 5,
   "id": "6a0d64f5",
   "metadata": {},
   "outputs": [],
   "source": [
    "## Vamos rodar o Teste Exato de Fisher para cada uma das variáveis de interesse\n",
    "\n",
    "## Definindo uma função para o teste\n",
    "\n",
    "def teste_fisher(var1, var2, dados):\n",
    "    \"\"\"\n",
    "    Executa o teste exato de Fisher entre duas variáveis de interesse\n",
    "\n",
    "    \"\"\"\n",
    "    # Criar tabela de contigê ncia\n",
    "    tabela = pd.crosstab(dados[var1], dados[var2])\n",
    "\n",
    "    print(f\"\\n=== Teste de Fisher: {var1} vs {var2} ===\")\n",
    "    print(\"Tabela de contigência\")\n",
    "    print(tabela)\n",
    "\n",
    "    # verificar se a tabela é válida para Fisher\n",
    "    if tabela.shape != (2, 2):\n",
    "        print(f\"⚠️  Tabela {tabela.shape} - Fisher pode não ser apropriado\")\n",
    "        return None, None, None\n",
    "\n",
    "    # Executar teste de fisher\n",
    "    try:\n",
    "        odds_ratio, p_value = stats.fisher_exact(tabela)\n",
    "\n",
    "        print(f\"Odds Ratio: {odds_ratio:.4f}\")\n",
    "        print(f\"P-value: {p_value:.6f}\")\n",
    "\n",
    "         # Interpretação\n",
    "        if p_value < 0.001:\n",
    "            sig = \"*** (p < 0.001)\"\n",
    "        elif p_value < 0.01:\n",
    "            sig = \"** (p < 0.01)\"\n",
    "        elif p_value < 0.05:\n",
    "            sig = \"* (p < 0.05)\"\n",
    "        else:\n",
    "            sig = \"ns (p >= 0.05)\"\n",
    "        \n",
    "        print(f\"Significância: {sig}\")\n",
    "        \n",
    "        return odds_ratio, p_value, sig\n",
    "        \n",
    "    except Exception as e:\n",
    "        print(f\"❌ Erro no teste: {e}\")\n",
    "        return None, None, None\n"
   ]
  },
  {
   "cell_type": "code",
   "execution_count": 6,
   "id": "abadd029",
   "metadata": {},
   "outputs": [
    {
     "name": "stdout",
     "output_type": "stream",
     "text": [
      "\n",
      "=== Teste de Fisher: resultado_julgamento vs categoria_vinculo ===\n",
      "Tabela de contigência\n",
      "categoria_vinculo      0   1\n",
      "resultado_julgamento        \n",
      "0                      0  24\n",
      "1                     36  77\n",
      "Odds Ratio: 0.0000\n",
      "P-value: 0.000527\n",
      "Significância: *** (p < 0.001)\n",
      "\n",
      "resultado_julgamento_vs_categoria_vinculo:\n",
      "  Odds Ratio: 0.0000\n",
      "  P-valor: 0.000527\n",
      "  Significância: *** (p < 0.001)\n"
     ]
    }
   ],
   "source": [
    "## Vamos executar o teste\n",
    "\n",
    "# Inicializar o dicionário de resultados\n",
    "\n",
    "resultados = {}\n",
    "\n",
    "## Teste 1: resultado_julgamento vs categoria_vinculo\n",
    "\n",
    "odds1, p1, sig1 = teste_fisher('resultado_julgamento', 'categoria_vinculo', dados_filtrados)\n",
    "resultados['resultado_julgamento_vs_categoria_vinculo'] = {'odds_ratio': odds1, 'p_value': p1, 'significancia': sig1}\n",
    "\n",
    "for teste, resultado in resultados.items():\n",
    "    if resultado['odds_ratio'] is not None:\n",
    "        print(f\"\\n{teste}:\")\n",
    "        print(f\"  Odds Ratio: {resultado['odds_ratio']:.4f}\")\n",
    "        print(f\"  P-valor: {resultado['p_value']:.6f}\")\n",
    "        print(f\"  Significância: {resultado['significancia']}\")\n",
    "    else:\n",
    "        print(f\"\\n{teste}: Teste não executado\")"
   ]
  },
  {
   "cell_type": "markdown",
   "id": "29dbb883",
   "metadata": {},
   "source": [
    "## Interpretação\n",
    "\n",
    "#### **Resultado do Julgamento vs Categoria de Vínculo**\n",
    "\n",
    "• Odds Ratio: 0.\n",
    "\n",
    "• P-valor: 0.000410\n",
    "\n",
    "1. Odds ratio = 0: Uma das células da tabela de contingência é zero. Nenhum caso do tipo abusivo na amostra foi absolvido. \n",
    "\n",
    "2.  Dos casos com vínculo afetivo na amostra, 77 foram condenados e 24 absolvidos. \n",
    "\n",
    "3.  Dos casos considerados como abuso na amostra, 36 foram condenados. \n",
    "\n",
    "**Conclusão:** *Ter vínculo afetivo pode alterar a decisão do julgamento*.\n",
    "\n",
    "**• O p-valor está abaixo de 0.05 (0.000527), indicando uma associação forte entre resultado do julgamento e tipo de vínculo.**"
   ]
  },
  {
   "cell_type": "code",
   "execution_count": 7,
   "id": "2b62535f",
   "metadata": {},
   "outputs": [
    {
     "name": "stdout",
     "output_type": "stream",
     "text": [
      "     ID_processo  resultado_julgamento  coab\n",
      "0       148088.0                     1   0.0\n",
      "1       203354.0                     1   0.0\n",
      "2       211280.0                     1   0.0\n",
      "3       264516.0                     1   0.0\n",
      "4       849912.0                     1   0.0\n",
      "..           ...                   ...   ...\n",
      "132     191972.0                     0   1.0\n",
      "133     240959.0                     0   1.0\n",
      "134     220480.0                     0   1.0\n",
      "135     221039.0                     0   0.0\n",
      "136     220755.0                     0   1.0\n",
      "\n",
      "[137 rows x 3 columns]\n",
      "Total de observações originais: 137\n",
      "Total de observações final: 137\n"
     ]
    }
   ],
   "source": [
    "## Analisando Coabitação\n",
    "\n",
    "## Filtrando apenas para as variáveis de interesse\n",
    "\n",
    "variaveis_interesse_2 = ['ID_processo','resultado_julgamento', 'coab']\n",
    "dados_filtrados_2 = dados[variaveis_interesse_2].copy()\n",
    "print(dados_filtrados_2)\n",
    "print(f\"Total de observações originais: {len(dados)}\")\n",
    "print(f\"Total de observações final: {len(dados_filtrados_2)}\")"
   ]
  },
  {
   "cell_type": "code",
   "execution_count": 8,
   "id": "34f934ad",
   "metadata": {},
   "outputs": [
    {
     "name": "stdout",
     "output_type": "stream",
     "text": [
      "ID_processo:\n",
      "  Missing values: 1 (0.7%)\n",
      "  Valores únicos: [148088. 203354. 211280. 264516. 849912. 804741. 254352. 202422. 224010.\n",
      " 200221. 184262. 132092. 835236. 173028. 191800. 193481. 694900. 184789.\n",
      " 174559. 143912. 280782. 215458. 885416. 913497. 208333. 212840. 871265.\n",
      " 249385. 157443. 239068. 259005. 176898. 176979. 527774. 171531. 176559.\n",
      " 169452. 149635. 175618. 140372. 143672. 155742. 158776. 231453. 134780.\n",
      " 195164. 831541. 800685. 795482. 210952. 208602. 722014. 681080. 676155.\n",
      " 197973. 197199. 208631. 237957. 147619. 183064. 201216. 169551. 208489.\n",
      " 226153. 185259. 630372. 188501. 189990. 142704. 163831. 153688. 379763.\n",
      " 477088. 382196. 387667. 160739. 185437. 163595. 176254. 171010. 136005.\n",
      " 165091. 155347. 158511. 162216. 154015. 728575. 110419. 283470. 966382.\n",
      " 170792. 216534. 961744. 159217. 270098. 211850. 214764. 231698. 248059.\n",
      " 279235. 172188. 118368. 221858.     nan 220261. 976227. 280596. 101478.\n",
      " 293118. 283931. 230572. 201531. 265254. 240573. 238961. 201966. 202969.\n",
      " 206484. 204528. 202900. 155503. 897015. 217780. 211854. 210161. 197716.\n",
      " 152449. 772844. 210396. 191972. 240959. 220480. 221039. 220755.]\n",
      "resultado_julgamento:\n",
      "  Missing values: 0 (0.0%)\n",
      "  Valores únicos: [1 0]\n",
      "coab:\n",
      "  Missing values: 2 (1.5%)\n",
      "  Valores únicos: [ 0.  1. nan]\n"
     ]
    }
   ],
   "source": [
    "## Verificando missing values\n",
    "\n",
    "for var in variaveis_interesse_2:\n",
    "    missing_count = dados_filtrados_2[var].isna().sum()\n",
    "    missing_percent = (missing_count/len(dados_filtrados_2)) * 100\n",
    "    print(f\"{var}:\")\n",
    "    print(f\"  Missing values: {missing_count} ({missing_percent:.1f}%)\")\n",
    "    print(f\"  Valores únicos: {dados_filtrados_2[var].unique()}\")\n",
    "\n",
    "## um dos missing values é o ID do processo. Vamos garantir que se elimine as observações com missing values apenas\n",
    "## nas variáveis de interesse. "
   ]
  },
  {
   "cell_type": "code",
   "execution_count": 9,
   "id": "8ea8224d",
   "metadata": {},
   "outputs": [
    {
     "name": "stdout",
     "output_type": "stream",
     "text": [
      "137 → 135 observações após dropna nessas colunas\n"
     ]
    }
   ],
   "source": [
    "## Vamos remover esses valores faltantes da tabela filtrada\n",
    "\n",
    "nas_de_interesse = ['resultado_julgamento', 'coab']\n",
    "dados_limpos_2 = dados_filtrados_2.dropna(subset = nas_de_interesse)\n",
    "\n",
    "print(len(dados_filtrados_2), '→', len(dados_limpos_2), 'observações após dropna nessas colunas')\n",
    "\n",
    "## Isso significa que temos 135 observações com informação COMPLETA. "
   ]
  },
  {
   "cell_type": "code",
   "execution_count": 10,
   "id": "fa586f56",
   "metadata": {},
   "outputs": [
    {
     "name": "stdout",
     "output_type": "stream",
     "text": [
      "\n",
      "=== Teste de Fisher: resultado_julgamento vs coab ===\n",
      "Tabela de contigência\n",
      "coab                  0.0  1.0\n",
      "resultado_julgamento          \n",
      "0                       6   17\n",
      "1                      83   29\n",
      "Odds Ratio: 0.1233\n",
      "P-value: 0.000022\n",
      "Significância: *** (p < 0.001)\n",
      "\n",
      "resultado_julgamento_vs_coabitacao:\n",
      "  Odds Ratio: 0.1233\n",
      "  P-valor: 0.000022\n",
      "  Significância: *** (p < 0.001)\n"
     ]
    }
   ],
   "source": [
    "## Vamos executar o teste\n",
    "\n",
    "# Inicializar o dicionário de resultados\n",
    "\n",
    "resultados = {}\n",
    "\n",
    "## Teste 2: resultado_julgamento vs coabitação\n",
    "\n",
    "odds1, p1, sig1 = teste_fisher('resultado_julgamento', 'coab', dados_limpos_2)\n",
    "resultados['resultado_julgamento_vs_coabitacao'] = {'odds_ratio': odds1, 'p_value': p1, 'significancia': sig1}\n",
    "\n",
    "for teste, resultado in resultados.items():\n",
    "    if resultado['odds_ratio'] is not None:\n",
    "        print(f\"\\n{teste}:\")\n",
    "        print(f\"  Odds Ratio: {resultado['odds_ratio']:.4f}\")\n",
    "        print(f\"  P-valor: {resultado['p_value']:.6f}\")\n",
    "        print(f\"  Significância: {resultado['significancia']}\")\n",
    "    else:\n",
    "        print(f\"\\n{teste}: Teste não executado\")"
   ]
  },
  {
   "cell_type": "markdown",
   "id": "6783938f",
   "metadata": {},
   "source": [
    "## Interpretação\n",
    "\n",
    "#### **Resultado do Julgamento vs Coabitação**\n",
    "\n",
    "• Odds Ratio: 0.1233.\n",
    "\n",
    "• P-valor: 0.000022\n",
    "\n",
    "1. Odds ratio = 0.1233. A chance de ser condenado quando há coabitação é menor do que quando não há coabitação.\n",
    "\n",
    "2.  Dos casos com coabitação, 29 foram condenados e 17 absolvidos. \n",
    "\n",
    "3.  Dos casos sem coabitação, 83 foram condenados e 6 absolvidos. \n",
    "\n",
    "**Conclusão:** *a coabitação altera a decisão do julgamento*.\n",
    "\n",
    "**• O p-valor está abaixo de 0.05 (0.000022), indicando uma associação forte entre resultado do julgamento e coabitação.**\n"
   ]
  },
  {
   "cell_type": "code",
   "execution_count": 11,
   "id": "7540def1",
   "metadata": {},
   "outputs": [
    {
     "name": "stdout",
     "output_type": "stream",
     "text": [
      "     ID_processo  resultado_julgamento  filhos\n",
      "0       148088.0                     1     0.0\n",
      "1       203354.0                     1     0.0\n",
      "2       211280.0                     1     0.0\n",
      "3       264516.0                     1     0.0\n",
      "4       849912.0                     1     1.0\n",
      "..           ...                   ...     ...\n",
      "132     191972.0                     0     1.0\n",
      "133     240959.0                     0     0.0\n",
      "134     220480.0                     0     1.0\n",
      "135     221039.0                     0     0.0\n",
      "136     220755.0                     0     1.0\n",
      "\n",
      "[137 rows x 3 columns]\n",
      "Total de observações originais: 137\n",
      "Total de observações final: 137\n"
     ]
    }
   ],
   "source": [
    "## Analisando existência de filhos\n",
    "\n",
    "## Filtrando apenas para as variáveis de interesse\n",
    "\n",
    "variaveis_interesse_3 = ['ID_processo','resultado_julgamento', 'filhos']\n",
    "dados_filtrados_3 = dados[variaveis_interesse_3].copy()\n",
    "print(dados_filtrados_3)\n",
    "print(f\"Total de observações originais: {len(dados)}\")\n",
    "print(f\"Total de observações final: {len(dados_filtrados_3)}\")"
   ]
  },
  {
   "cell_type": "code",
   "execution_count": 12,
   "id": "d2f7452f",
   "metadata": {},
   "outputs": [
    {
     "name": "stdout",
     "output_type": "stream",
     "text": [
      "ID_processo:\n",
      "  Missing values: 1 (0.7%)\n",
      "  Valores únicos: [148088. 203354. 211280. 264516. 849912. 804741. 254352. 202422. 224010.\n",
      " 200221. 184262. 132092. 835236. 173028. 191800. 193481. 694900. 184789.\n",
      " 174559. 143912. 280782. 215458. 885416. 913497. 208333. 212840. 871265.\n",
      " 249385. 157443. 239068. 259005. 176898. 176979. 527774. 171531. 176559.\n",
      " 169452. 149635. 175618. 140372. 143672. 155742. 158776. 231453. 134780.\n",
      " 195164. 831541. 800685. 795482. 210952. 208602. 722014. 681080. 676155.\n",
      " 197973. 197199. 208631. 237957. 147619. 183064. 201216. 169551. 208489.\n",
      " 226153. 185259. 630372. 188501. 189990. 142704. 163831. 153688. 379763.\n",
      " 477088. 382196. 387667. 160739. 185437. 163595. 176254. 171010. 136005.\n",
      " 165091. 155347. 158511. 162216. 154015. 728575. 110419. 283470. 966382.\n",
      " 170792. 216534. 961744. 159217. 270098. 211850. 214764. 231698. 248059.\n",
      " 279235. 172188. 118368. 221858.     nan 220261. 976227. 280596. 101478.\n",
      " 293118. 283931. 230572. 201531. 265254. 240573. 238961. 201966. 202969.\n",
      " 206484. 204528. 202900. 155503. 897015. 217780. 211854. 210161. 197716.\n",
      " 152449. 772844. 210396. 191972. 240959. 220480. 221039. 220755.]\n",
      "resultado_julgamento:\n",
      "  Missing values: 0 (0.0%)\n",
      "  Valores únicos: [1 0]\n",
      "filhos:\n",
      "  Missing values: 1 (0.7%)\n",
      "  Valores únicos: [ 0.  1. nan]\n"
     ]
    }
   ],
   "source": [
    "## Verificando missing values\n",
    "\n",
    "for var in variaveis_interesse_3:\n",
    "    missing_count = dados_filtrados_3[var].isna().sum()\n",
    "    missing_percent = (missing_count/len(dados_filtrados_3)) * 100\n",
    "    print(f\"{var}:\")\n",
    "    print(f\"  Missing values: {missing_count} ({missing_percent:.1f}%)\")\n",
    "    print(f\"  Valores únicos: {dados_filtrados_3[var].unique()}\")\n",
    "\n",
    "## um dos missing values é o ID do processo. Vamos garantir que se elimine as observações com missing values apenas\n",
    "## nas variáveis de interesse. "
   ]
  },
  {
   "cell_type": "code",
   "execution_count": 14,
   "id": "02a3152a",
   "metadata": {},
   "outputs": [
    {
     "name": "stdout",
     "output_type": "stream",
     "text": [
      "137 → 136 observações após dropna nessas colunas\n"
     ]
    }
   ],
   "source": [
    "## Vamos remover esses valores faltantes da tabela filtrada\n",
    "\n",
    "nas_de_interesse_2 = ['resultado_julgamento', 'filhos']\n",
    "dados_limpos_3 = dados_filtrados_3.dropna(subset = nas_de_interesse_2)\n",
    "\n",
    "print(len(dados_filtrados_3), '→', len(dados_limpos_3), 'observações após dropna nessas colunas')\n",
    "\n",
    "## Isso significa que temos 136 observações com informação COMPLETA."
   ]
  },
  {
   "cell_type": "code",
   "execution_count": 15,
   "id": "2d77b62f",
   "metadata": {},
   "outputs": [
    {
     "name": "stdout",
     "output_type": "stream",
     "text": [
      "\n",
      "=== Teste de Fisher: resultado_julgamento vs filhos ===\n",
      "Tabela de contigência\n",
      "filhos                0.0  1.0\n",
      "resultado_julgamento          \n",
      "0                       9   15\n",
      "1                      98   14\n",
      "Odds Ratio: 0.0857\n",
      "P-value: 0.000001\n",
      "Significância: *** (p < 0.001)\n",
      "\n",
      "resultado_julgamento_vs_filhos:\n",
      "  Odds Ratio: 0.0857\n",
      "  P-valor: 0.000001\n",
      "  Significância: *** (p < 0.001)\n"
     ]
    }
   ],
   "source": [
    "## Vamos executar o teste\n",
    "\n",
    "# Inicializar o dicionário de resultados\n",
    "\n",
    "resultados = {}\n",
    "\n",
    "## Teste 3: resultado_julgamento vs existência de filhos\n",
    "\n",
    "odds1, p1, sig1 = teste_fisher('resultado_julgamento', 'filhos', dados_limpos_3)\n",
    "resultados['resultado_julgamento_vs_filhos'] = {'odds_ratio': odds1, 'p_value': p1, 'significancia': sig1}\n",
    "\n",
    "for teste, resultado in resultados.items():\n",
    "    if resultado['odds_ratio'] is not None:\n",
    "        print(f\"\\n{teste}:\")\n",
    "        print(f\"  Odds Ratio: {resultado['odds_ratio']:.4f}\")\n",
    "        print(f\"  P-valor: {resultado['p_value']:.6f}\")\n",
    "        print(f\"  Significância: {resultado['significancia']}\")\n",
    "    else:\n",
    "        print(f\"\\n{teste}: Teste não executado\")"
   ]
  },
  {
   "cell_type": "markdown",
   "id": "9bfd6842",
   "metadata": {},
   "source": [
    "## Interpretação\n",
    "\n",
    "#### **Resultado do Julgamento vs Filhos**\n",
    "\n",
    "1. Odds ratio = 0.0857. A chance de ser condenado quando há filhos é menor do que quando não há filhos.\n",
    "\n",
    "2.  Dos casos com filho na amostra, 14 foram condenados e 15 absolvidos. \n",
    "\n",
    "3.  Dos casos sem filhos na amostra, 98 foram condenados e 9 absolvidos. \n",
    "\n",
    "**Conclusão:** *Ter filhos altera o resultado do julgamento*.\n",
    "\n",
    "**• O p-valor está abaixo de 0.05 (0.000001), indicando uma associação forte entre resultado do julgamento e a existência de filhos.**"
   ]
  },
  {
   "cell_type": "code",
   "execution_count": 16,
   "id": "2df970db",
   "metadata": {},
   "outputs": [
    {
     "name": "stdout",
     "output_type": "stream",
     "text": [
      "     ID_processo  resultado_julgamento  consentimento_familiar\n",
      "0       148088.0                     1                     0.0\n",
      "1       203354.0                     1                     0.0\n",
      "2       211280.0                     1                     0.0\n",
      "3       264516.0                     1                     0.0\n",
      "4       849912.0                     1                     0.0\n",
      "..           ...                   ...                     ...\n",
      "132     191972.0                     0                     1.0\n",
      "133     240959.0                     0                     NaN\n",
      "134     220480.0                     0                     1.0\n",
      "135     221039.0                     0                     1.0\n",
      "136     220755.0                     0                     1.0\n",
      "\n",
      "[137 rows x 3 columns]\n",
      "Total de observações originais: 137\n",
      "Total de observações final: 137\n"
     ]
    }
   ],
   "source": [
    "## Analisando consentimento familiar\n",
    "\n",
    "## Filtrando apenas para as variáveis de interesse\n",
    "\n",
    "variaveis_interesse_4 = ['ID_processo','resultado_julgamento', 'consentimento_familiar']\n",
    "dados_filtrados_4 = dados[variaveis_interesse_4].copy()\n",
    "print(dados_filtrados_4)\n",
    "print(f\"Total de observações originais: {len(dados)}\")\n",
    "print(f\"Total de observações final: {len(dados_filtrados_4)}\")"
   ]
  },
  {
   "cell_type": "code",
   "execution_count": 17,
   "id": "6a98e5ce",
   "metadata": {},
   "outputs": [
    {
     "name": "stdout",
     "output_type": "stream",
     "text": [
      "ID_processo:\n",
      "  Missing values: 1 (0.7%)\n",
      "  Valores únicos: [148088. 203354. 211280. 264516. 849912. 804741. 254352. 202422. 224010.\n",
      " 200221. 184262. 132092. 835236. 173028. 191800. 193481. 694900. 184789.\n",
      " 174559. 143912. 280782. 215458. 885416. 913497. 208333. 212840. 871265.\n",
      " 249385. 157443. 239068. 259005. 176898. 176979. 527774. 171531. 176559.\n",
      " 169452. 149635. 175618. 140372. 143672. 155742. 158776. 231453. 134780.\n",
      " 195164. 831541. 800685. 795482. 210952. 208602. 722014. 681080. 676155.\n",
      " 197973. 197199. 208631. 237957. 147619. 183064. 201216. 169551. 208489.\n",
      " 226153. 185259. 630372. 188501. 189990. 142704. 163831. 153688. 379763.\n",
      " 477088. 382196. 387667. 160739. 185437. 163595. 176254. 171010. 136005.\n",
      " 165091. 155347. 158511. 162216. 154015. 728575. 110419. 283470. 966382.\n",
      " 170792. 216534. 961744. 159217. 270098. 211850. 214764. 231698. 248059.\n",
      " 279235. 172188. 118368. 221858.     nan 220261. 976227. 280596. 101478.\n",
      " 293118. 283931. 230572. 201531. 265254. 240573. 238961. 201966. 202969.\n",
      " 206484. 204528. 202900. 155503. 897015. 217780. 211854. 210161. 197716.\n",
      " 152449. 772844. 210396. 191972. 240959. 220480. 221039. 220755.]\n",
      "resultado_julgamento:\n",
      "  Missing values: 0 (0.0%)\n",
      "  Valores únicos: [1 0]\n",
      "consentimento_familiar:\n",
      "  Missing values: 6 (4.4%)\n",
      "  Valores únicos: [ 0.  1. nan]\n"
     ]
    }
   ],
   "source": [
    "## Verificando missing values\n",
    "\n",
    "for var in variaveis_interesse_4:\n",
    "    missing_count = dados_filtrados_4[var].isna().sum()\n",
    "    missing_percent = (missing_count/len(dados_filtrados_4)) * 100\n",
    "    print(f\"{var}:\")\n",
    "    print(f\"  Missing values: {missing_count} ({missing_percent:.1f}%)\")\n",
    "    print(f\"  Valores únicos: {dados_filtrados_4[var].unique()}\")\n",
    "\n",
    "\n",
    "## um dos missing values é o ID do processo. Vamos garantir que se elimine as observações com missing values apenas\n",
    "## nas variáveis de interesse. "
   ]
  },
  {
   "cell_type": "code",
   "execution_count": 18,
   "id": "42bb0fcb",
   "metadata": {},
   "outputs": [
    {
     "name": "stdout",
     "output_type": "stream",
     "text": [
      "137 → 131 observações após dropna nessas colunas\n"
     ]
    }
   ],
   "source": [
    "## Vamos remover esses valores faltantes da tabela filtrada\n",
    "\n",
    "nas_de_interesse_3 = ['resultado_julgamento', 'consentimento_familiar']\n",
    "dados_limpos_4 = dados_filtrados_4.dropna(subset = nas_de_interesse_3)\n",
    "\n",
    "print(len(dados_filtrados_4), '→', len(dados_limpos_4), 'observações após dropna nessas colunas')\n",
    "\n",
    "## Isso significa que temos 131 observações com informação COMPLETA."
   ]
  },
  {
   "cell_type": "code",
   "execution_count": 19,
   "id": "91d67255",
   "metadata": {},
   "outputs": [
    {
     "name": "stdout",
     "output_type": "stream",
     "text": [
      "\n",
      "=== Teste de Fisher: resultado_julgamento vs consentimento_familiar ===\n",
      "Tabela de contigência\n",
      "consentimento_familiar  0.0  1.0\n",
      "resultado_julgamento            \n",
      "0                         9   13\n",
      "1                        84   25\n",
      "Odds Ratio: 0.2060\n",
      "P-value: 0.001450\n",
      "Significância: ** (p < 0.01)\n",
      "\n",
      "resultado_julgamento_vs_consentimento_familiar:\n",
      "  Odds Ratio: 0.2060\n",
      "  P-valor: 0.001450\n",
      "  Significância: ** (p < 0.01)\n"
     ]
    }
   ],
   "source": [
    "## Vamos executar o teste\n",
    "\n",
    "# Inicializar o dicionário de resultados\n",
    "\n",
    "resultados = {}\n",
    "\n",
    "## Teste 4: resultado_julgamento vs consentimento familiar\n",
    "\n",
    "odds1, p1, sig1 = teste_fisher('resultado_julgamento', 'consentimento_familiar', dados_limpos_4)\n",
    "resultados['resultado_julgamento_vs_consentimento_familiar'] = {'odds_ratio': odds1, 'p_value': p1, 'significancia': sig1}\n",
    "\n",
    "for teste, resultado in resultados.items():\n",
    "    if resultado['odds_ratio'] is not None:\n",
    "        print(f\"\\n{teste}:\")\n",
    "        print(f\"  Odds Ratio: {resultado['odds_ratio']:.4f}\")\n",
    "        print(f\"  P-valor: {resultado['p_value']:.6f}\")\n",
    "        print(f\"  Significância: {resultado['significancia']}\")\n",
    "    else:\n",
    "        print(f\"\\n{teste}: Teste não executado\")"
   ]
  },
  {
   "cell_type": "markdown",
   "id": "419938c2",
   "metadata": {},
   "source": [
    "## Interpretação\n",
    "\n",
    "#### **Resultado do Julgamento vs Consentimento Familiar**\n",
    "\n",
    "1. Odds ratio = 0.2060. A chance de ser condenado quando há consentimento familiar é menor do que quando não há consentimento familiar.\n",
    "\n",
    "2.  Dos casos com consentimento familiar na amostra, 25 foram condenados e 13 absolvidos. \n",
    "\n",
    "3.  Dos casos sem consentimento familiar amostra, 84 foram condenados e 9 absolvidos. \n",
    "\n",
    "**Conclusão:** *O consentimento familiar altera o resultado do julgamento*.\n",
    "\n",
    "**• O p-valor está abaixo de 0.05 (0.001450), indicando uma associação forte entre resultado do julgamento e o consentimento familiar.**"
   ]
  },
  {
   "cell_type": "code",
   "execution_count": 20,
   "id": "911e54be",
   "metadata": {},
   "outputs": [
    {
     "name": "stdout",
     "output_type": "stream",
     "text": [
      "     ID_processo  resultado_julgamento  consentimento_vitima\n",
      "0       148088.0                     1                     1\n",
      "1       203354.0                     1                     1\n",
      "2       211280.0                     1                     1\n",
      "3       264516.0                     1                     1\n",
      "4       849912.0                     1                     1\n",
      "..           ...                   ...                   ...\n",
      "132     191972.0                     0                     1\n",
      "133     240959.0                     0                     1\n",
      "134     220480.0                     0                     1\n",
      "135     221039.0                     0                     1\n",
      "136     220755.0                     0                     1\n",
      "\n",
      "[137 rows x 3 columns]\n",
      "Total de observações originais: 137\n",
      "Total de observações final: 137\n"
     ]
    }
   ],
   "source": [
    "## Analisando consentimento da vítima\n",
    "\n",
    "## Filtrando apenas para as variáveis de interesse\n",
    "\n",
    "variaveis_interesse_5 = ['ID_processo','resultado_julgamento', 'consentimento_vitima']\n",
    "dados_filtrados_5 = dados[variaveis_interesse_5].copy()\n",
    "print(dados_filtrados_5)\n",
    "print(f\"Total de observações originais: {len(dados)}\")\n",
    "print(f\"Total de observações final: {len(dados_filtrados_5)}\")\n"
   ]
  },
  {
   "cell_type": "code",
   "execution_count": 21,
   "id": "d5b6ec62",
   "metadata": {},
   "outputs": [
    {
     "name": "stdout",
     "output_type": "stream",
     "text": [
      "ID_processo:\n",
      "  Missing values: 1 (0.7%)\n",
      "  Valores únicos: [148088. 203354. 211280. 264516. 849912. 804741. 254352. 202422. 224010.\n",
      " 200221. 184262. 132092. 835236. 173028. 191800. 193481. 694900. 184789.\n",
      " 174559. 143912. 280782. 215458. 885416. 913497. 208333. 212840. 871265.\n",
      " 249385. 157443. 239068. 259005. 176898. 176979. 527774. 171531. 176559.\n",
      " 169452. 149635. 175618. 140372. 143672. 155742. 158776. 231453. 134780.\n",
      " 195164. 831541. 800685. 795482. 210952. 208602. 722014. 681080. 676155.\n",
      " 197973. 197199. 208631. 237957. 147619. 183064. 201216. 169551. 208489.\n",
      " 226153. 185259. 630372. 188501. 189990. 142704. 163831. 153688. 379763.\n",
      " 477088. 382196. 387667. 160739. 185437. 163595. 176254. 171010. 136005.\n",
      " 165091. 155347. 158511. 162216. 154015. 728575. 110419. 283470. 966382.\n",
      " 170792. 216534. 961744. 159217. 270098. 211850. 214764. 231698. 248059.\n",
      " 279235. 172188. 118368. 221858.     nan 220261. 976227. 280596. 101478.\n",
      " 293118. 283931. 230572. 201531. 265254. 240573. 238961. 201966. 202969.\n",
      " 206484. 204528. 202900. 155503. 897015. 217780. 211854. 210161. 197716.\n",
      " 152449. 772844. 210396. 191972. 240959. 220480. 221039. 220755.]\n",
      "resultado_julgamento:\n",
      "  Missing values: 0 (0.0%)\n",
      "  Valores únicos: [1 0]\n",
      "consentimento_vitima:\n",
      "  Missing values: 0 (0.0%)\n",
      "  Valores únicos: [1 0]\n"
     ]
    }
   ],
   "source": [
    "## Verificando missing values\n",
    "\n",
    "for var in variaveis_interesse_5:\n",
    "    missing_count = dados_filtrados_5[var].isna().sum()\n",
    "    missing_percent = (missing_count/len(dados_filtrados_5)) * 100\n",
    "    print(f\"{var}:\")\n",
    "    print(f\"  Missing values: {missing_count} ({missing_percent:.1f}%)\")\n",
    "    print(f\"  Valores únicos: {dados_filtrados_5[var].unique()}\")\n",
    "\n",
    "## Não há missing values, o total de observações com informação completa é 137. "
   ]
  },
  {
   "cell_type": "code",
   "execution_count": 22,
   "id": "0becbda8",
   "metadata": {},
   "outputs": [
    {
     "name": "stdout",
     "output_type": "stream",
     "text": [
      "\n",
      "=== Teste de Fisher: resultado_julgamento vs consentimento_vitima ===\n",
      "Tabela de contigência\n",
      "consentimento_vitima   0   1\n",
      "resultado_julgamento        \n",
      "0                      0  24\n",
      "1                     35  78\n",
      "Odds Ratio: 0.0000\n",
      "P-value: 0.000538\n",
      "Significância: *** (p < 0.001)\n",
      "\n",
      "resultado_julgamento_vs_consentimento_vitima:\n",
      "  Odds Ratio: 0.0000\n",
      "  P-valor: 0.000538\n",
      "  Significância: *** (p < 0.001)\n"
     ]
    }
   ],
   "source": [
    "## Vamos executar o teste\n",
    "\n",
    "# Inicializar o dicionário de resultados\n",
    "\n",
    "resultados = {}\n",
    "\n",
    "## Teste 5: resultado_julgamento vs consentimento da vítima\n",
    "\n",
    "odds1, p1, sig1 = teste_fisher('resultado_julgamento', 'consentimento_vitima', dados_filtrados_5)\n",
    "resultados['resultado_julgamento_vs_consentimento_vitima'] = {'odds_ratio': odds1, 'p_value': p1, 'significancia': sig1}\n",
    "\n",
    "for teste, resultado in resultados.items():\n",
    "    if resultado['odds_ratio'] is not None:\n",
    "        print(f\"\\n{teste}:\")\n",
    "        print(f\"  Odds Ratio: {resultado['odds_ratio']:.4f}\")\n",
    "        print(f\"  P-valor: {resultado['p_value']:.6f}\")\n",
    "        print(f\"  Significância: {resultado['significancia']}\")\n",
    "    else:\n",
    "        print(f\"\\n{teste}: Teste não executado\")"
   ]
  },
  {
   "cell_type": "markdown",
   "id": "5fad37da",
   "metadata": {},
   "source": [
    "## Interpretação\n",
    "\n",
    "#### **Resultado do Julgamento vs Consentimento da Vítima**\n",
    "\n",
    "1. Odds Ratio: 0 (tende a zero ou é indefinido). Há zero na tabela de contingência. Não existe nenhum caso de absolvição na amostra quando não há consentimento da vítima. \n",
    "\n",
    "2.  Dos casos com consentimento da vítima na amostra, 78 foram condenados e 24 absolvidos. \n",
    "\n",
    "3.  Dos casos sem consentimento da vítima na amostra, 35 foram condenados e 0 absolvidos. \n",
    "\n",
    "**Conclusão:** *O consentimento da vítima altera a decisão do julgamento. Mais especificamente, a chance de condenação\n",
    "é muito alta - ou máxima - quando a vítima não consentiu. Quando há consentimento, a tomada de decisão é mista - depende do caso.*\n",
    "\n",
    "**• O p-valor está abaixo de 0.05 (0.000538), indicando uma associação forte e estatisticamente significante entre\n",
    "o resultado do julgamento e o consentimento da vítima. **"
   ]
  }
 ],
 "metadata": {
  "kernelspec": {
   "display_name": "FREDISS",
   "language": "python",
   "name": "python3"
  },
  "language_info": {
   "codemirror_mode": {
    "name": "ipython",
    "version": 3
   },
   "file_extension": ".py",
   "mimetype": "text/x-python",
   "name": "python",
   "nbconvert_exporter": "python",
   "pygments_lexer": "ipython3",
   "version": "3.13.2"
  }
 },
 "nbformat": 4,
 "nbformat_minor": 5
}
